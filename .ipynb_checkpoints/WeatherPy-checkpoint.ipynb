{
 "cells": [
  {
   "cell_type": "markdown",
   "metadata": {},
   "source": [
    "# WeatherPy\n",
    "----\n",
    "\n",
    "### Analysis\n",
    "* As expected, the weather becomes significantly warmer as one approaches the equator (0 Deg. Latitude). More interestingly, however, is the fact that the southern hemisphere tends to be warmer this time of year than the northern hemisphere. This may be due to the tilt of the earth.\n",
    "* There is no strong relationship between latitude and cloudiness. However, it is interesting to see that a strong band of cities sits at 0, 80, and 100% cloudiness.\n",
    "* There is no strong relationship between latitude and wind speed. However, in northern hemispheres there is a flurry of cities with over 20 mph of wind.\n",
    "\n",
    "---\n",
    "\n",
    "#### Note\n",
    "* Instructions have been included for each segment. You do not have to follow them exactly, but they are included to help you think through the steps."
   ]
  },
  {
   "cell_type": "code",
   "execution_count": 1,
   "metadata": {
    "scrolled": true
   },
   "outputs": [],
   "source": [
    "# Dependencies and Setup\n",
    "from citipy import citipy\n",
    "#from config import openweatherkey\n",
    "import matplotlib.pyplot as plt\n",
    "import pandas as pd\n",
    "import numpy as np\n",
    "import requests\n",
    "import time\n",
    "import json\n",
    "\n",
    "# Import API key\n",
    "from api_keys import api_key\n",
    "\n",
    "# Incorporated citipy to determine city based on latitude and longitude\n",
    "from citipy import citipy\n",
    "\n",
    "\n",
    "\n",
    "# Output File (CSV)\n",
    "output_data_file = \"output_data/cities.csv\"\n",
    "\n",
    "# Range of latitudes and longitudes\n",
    "lat_range = (-90, 90)\n",
    "lng_range = (-180, 180)"
   ]
  },
  {
   "cell_type": "markdown",
   "metadata": {},
   "source": [
    "## Generate Cities List"
   ]
  },
  {
   "cell_type": "code",
   "execution_count": 2,
   "metadata": {},
   "outputs": [
    {
     "data": {
      "text/plain": [
       "623"
      ]
     },
     "execution_count": 2,
     "metadata": {},
     "output_type": "execute_result"
    }
   ],
   "source": [
    "# List for holding lat_lngs and cities\n",
    "lat_lngs = []\n",
    "cities = []\n",
    "\n",
    "# Create a set of random lat and lng combinations\n",
    "lats = np.random.uniform(low=-90.000, high=90.000, size=1500)\n",
    "lngs = np.random.uniform(low=-180.000, high=180.000, size=1500)\n",
    "lat_lngs = zip(lats, lngs)\n",
    "\n",
    "# Identify nearest city for each lat, lng combination\n",
    "for lat_lng in lat_lngs:\n",
    "    city = citipy.nearest_city(lat_lng[0], lat_lng[1]).city_name\n",
    "    \n",
    "    # If the city is unique, then add it to a our cities list\n",
    "    if city not in cities:\n",
    "        cities.append(city)\n",
    "\n",
    "# Print the city count to confirm sufficient count\n",
    "len(cities)"
   ]
  },
  {
   "cell_type": "markdown",
   "metadata": {},
   "source": [
    "### Perform API Calls\n",
    "* Perform a weather check on each city using a series of successive API calls.\n",
    "* Include a print log of each city as it'sbeing processed (with the city number and city name).\n"
   ]
  },
  {
   "cell_type": "code",
   "execution_count": 3,
   "metadata": {},
   "outputs": [],
   "source": [
    "# OpenWeatherMap API Key\n",
    "#api_key = api_keys.api_key\n",
    "#api_key = \"02485a48a01e1133ea9b6e3d2adc8bbd\"\n",
    "api_key=\"c400bb631a29a3b65bf60a13b9f3d64c\"\n",
    "\n",
    "# Starting URL for Weather Map API Call\n",
    "\n",
    "#url = \"http://api.openweathermap.org/data/2.5/weather?units=Imperial&q=&APPID=\" + api_key\n",
    "url=\"https://api.openweathermap.org/data/2.5/weather?appid=\" + api_key + \"&units=imperial&q=\"\n"
   ]
  },
  {
   "cell_type": "code",
   "execution_count": null,
   "metadata": {},
   "outputs": [
    {
     "name": "stdout",
     "output_type": "stream",
     "text": [
      "Beginning Data Retrieval\n",
      "-------------------------------\n",
      "Processing Record 1 | Namibe\n",
      "https://api.openweathermap.org/data/2.5/weather?appid=c400bb631a29a3b65bf60a13b9f3d64c&units=imperial&q=&q=namibe\n",
      "Processing Record 2 | Bud\n",
      "https://api.openweathermap.org/data/2.5/weather?appid=c400bb631a29a3b65bf60a13b9f3d64c&units=imperial&q=&q=bud\n",
      "Processing Record 3 | Neijiang\n",
      "https://api.openweathermap.org/data/2.5/weather?appid=c400bb631a29a3b65bf60a13b9f3d64c&units=imperial&q=&q=neijiang\n",
      "Processing Record 4 | Rikitea\n",
      "https://api.openweathermap.org/data/2.5/weather?appid=c400bb631a29a3b65bf60a13b9f3d64c&units=imperial&q=&q=rikitea\n",
      "City not found. Skipping...\n",
      "Processing Record 5 | Liverpool\n",
      "https://api.openweathermap.org/data/2.5/weather?appid=c400bb631a29a3b65bf60a13b9f3d64c&units=imperial&q=&q=liverpool\n",
      "Processing Record 6 | Santa Marta\n",
      "https://api.openweathermap.org/data/2.5/weather?appid=c400bb631a29a3b65bf60a13b9f3d64c&units=imperial&q=&q=santa marta\n",
      "Processing Record 7 | Grindavik\n",
      "https://api.openweathermap.org/data/2.5/weather?appid=c400bb631a29a3b65bf60a13b9f3d64c&units=imperial&q=&q=grindavik\n",
      "Processing Record 8 | Wanning\n",
      "https://api.openweathermap.org/data/2.5/weather?appid=c400bb631a29a3b65bf60a13b9f3d64c&units=imperial&q=&q=wanning\n",
      "City not found. Skipping...\n",
      "Processing Record 9 | Vaini\n",
      "https://api.openweathermap.org/data/2.5/weather?appid=c400bb631a29a3b65bf60a13b9f3d64c&units=imperial&q=&q=vaini\n",
      "Processing Record 10 | Saskylakh\n",
      "https://api.openweathermap.org/data/2.5/weather?appid=c400bb631a29a3b65bf60a13b9f3d64c&units=imperial&q=&q=saskylakh\n",
      "Processing Record 11 | Jamestown\n",
      "https://api.openweathermap.org/data/2.5/weather?appid=c400bb631a29a3b65bf60a13b9f3d64c&units=imperial&q=&q=jamestown\n",
      "Processing Record 12 | Saint-Philippe\n",
      "https://api.openweathermap.org/data/2.5/weather?appid=c400bb631a29a3b65bf60a13b9f3d64c&units=imperial&q=&q=saint-philippe\n",
      "Processing Record 13 | Namatanai\n",
      "https://api.openweathermap.org/data/2.5/weather?appid=c400bb631a29a3b65bf60a13b9f3d64c&units=imperial&q=&q=namatanai\n",
      "Processing Record 14 | Port Elizabeth\n",
      "https://api.openweathermap.org/data/2.5/weather?appid=c400bb631a29a3b65bf60a13b9f3d64c&units=imperial&q=&q=port elizabeth\n",
      "Processing Record 15 | Qaanaaq\n",
      "https://api.openweathermap.org/data/2.5/weather?appid=c400bb631a29a3b65bf60a13b9f3d64c&units=imperial&q=&q=qaanaaq\n",
      "Processing Record 16 | Duku\n",
      "https://api.openweathermap.org/data/2.5/weather?appid=c400bb631a29a3b65bf60a13b9f3d64c&units=imperial&q=&q=duku\n",
      "Processing Record 17 | Mataura\n",
      "https://api.openweathermap.org/data/2.5/weather?appid=c400bb631a29a3b65bf60a13b9f3d64c&units=imperial&q=&q=mataura\n",
      "Processing Record 18 | Kaitangata\n",
      "https://api.openweathermap.org/data/2.5/weather?appid=c400bb631a29a3b65bf60a13b9f3d64c&units=imperial&q=&q=kaitangata\n",
      "Processing Record 19 | Pevek\n",
      "https://api.openweathermap.org/data/2.5/weather?appid=c400bb631a29a3b65bf60a13b9f3d64c&units=imperial&q=&q=pevek\n",
      "Processing Record 20 | Avarua\n",
      "https://api.openweathermap.org/data/2.5/weather?appid=c400bb631a29a3b65bf60a13b9f3d64c&units=imperial&q=&q=avarua\n",
      "Processing Record 21 | Kavieng\n",
      "https://api.openweathermap.org/data/2.5/weather?appid=c400bb631a29a3b65bf60a13b9f3d64c&units=imperial&q=&q=kavieng\n",
      "City not found. Skipping...\n",
      "Processing Record 22 | Saint George\n",
      "https://api.openweathermap.org/data/2.5/weather?appid=c400bb631a29a3b65bf60a13b9f3d64c&units=imperial&q=&q=saint george\n",
      "City not found. Skipping...\n",
      "Processing Record 23 | Chifeng\n",
      "https://api.openweathermap.org/data/2.5/weather?appid=c400bb631a29a3b65bf60a13b9f3d64c&units=imperial&q=&q=chifeng\n",
      "Processing Record 24 | Tuktoyaktuk\n",
      "https://api.openweathermap.org/data/2.5/weather?appid=c400bb631a29a3b65bf60a13b9f3d64c&units=imperial&q=&q=tuktoyaktuk\n",
      "Processing Record 25 | Naryan-Mar\n",
      "https://api.openweathermap.org/data/2.5/weather?appid=c400bb631a29a3b65bf60a13b9f3d64c&units=imperial&q=&q=naryan-mar\n"
     ]
    }
   ],
   "source": [
    "# Create empty lists to append the API data into the lists \n",
    "city_name = []\n",
    "cloudiness = []\n",
    "country = []\n",
    "date = []\n",
    "humidity = []\n",
    "lat = []\n",
    "lng = []\n",
    "max_temp = []\n",
    "wind_speed = []\n",
    "\n",
    "\n",
    "\n",
    "# Start the call counter \n",
    "record = 1\n",
    "\n",
    "# Log file print statement\n",
    "print(f\"Beginning Data Retrieval\")\n",
    "print(f\"-------------------------------\")\n",
    "\n",
    "#Loop through the cities in the city list \n",
    "for city in cities:  \n",
    "    #urlCity=url+ \"&q =\"+ city\n",
    "    urlCity=url + city\n",
    "    \n",
    "    try: \n",
    "        response = requests.get(urlCity).json() \n",
    "        city_name.append(response[\"name\"])\n",
    "        cloudiness.append(response[\"clouds\"][\"all\"])\n",
    "        country.append(response[\"sys\"][\"country\"])\n",
    "        date.append(response[\"dt\"])\n",
    "        humidity.append(response[\"main\"][\"humidity\"])\n",
    "        max_temp.append(response[\"main\"][\"temp_max\"])\n",
    "        lat.append(response[\"coord\"][\"lat\"])\n",
    "        lng.append(response[\"coord\"][\"lon\"])\n",
    "        wind_speed.append(response[\"wind\"][\"speed\"])\n",
    "        city_record = response[\"name\"]\n",
    "        print(f\"Processing Record {record} | {city_record}\")\n",
    "        print(f\"{url}&q={city}\")\n",
    "        \n",
    "        # Increase counter by one \n",
    "        record= record + 1\n",
    "        \n",
    "        # Wait a second in loop for not over exceed rate limitation of API\n",
    "        time.sleep(1.03)\n",
    "        \n",
    "    # If no record found \"skip\" to next call\n",
    "    except:\n",
    "        print(\"City not found. Skipping...\")\n",
    "    continue\n",
    "    "
   ]
  },
  {
   "cell_type": "markdown",
   "metadata": {},
   "source": [
    "### Convert Raw Data to DataFrame\n",
    "* Export the city data into a .csv.\n",
    "* Display the DataFrame"
   ]
  },
  {
   "cell_type": "code",
   "execution_count": null,
   "metadata": {},
   "outputs": [],
   "source": [
    "# Create a dictonary with the lists generated\n",
    "weatherpy_dict = {\n",
    "    \"City\": city_name,\n",
    "    \"Cloudiness\":cloudiness, \n",
    "    \"Country\":country,\n",
    "    \"Date\":date, \n",
    "    \"Humidity\": humidity,\n",
    "    \"Lat\":lat, \n",
    "    \"Lng\":lng, \n",
    "    \"Max Temp\": max_temp,\n",
    "    \"Wind Speed\":wind_speed\n",
    "}\n",
    "\n",
    "# Create a data frame from dictionary\n",
    "weather_data = pd.DataFrame(weatherpy_dict)\n",
    "\n",
    "# Display count of weather data values \n",
    "weather_data.count\n",
    "\n",
    "weather_data.head()\n",
    "\n",
    "# Save data frame to CSV\n",
    "weather_data.to_csv('output_data/weather_data.csv')"
   ]
  },
  {
   "cell_type": "code",
   "execution_count": 6,
   "metadata": {},
   "outputs": [
    {
     "data": {
      "text/html": [
       "<div>\n",
       "<style scoped>\n",
       "    .dataframe tbody tr th:only-of-type {\n",
       "        vertical-align: middle;\n",
       "    }\n",
       "\n",
       "    .dataframe tbody tr th {\n",
       "        vertical-align: top;\n",
       "    }\n",
       "\n",
       "    .dataframe thead th {\n",
       "        text-align: right;\n",
       "    }\n",
       "</style>\n",
       "<table border=\"1\" class=\"dataframe\">\n",
       "  <thead>\n",
       "    <tr style=\"text-align: right;\">\n",
       "      <th></th>\n",
       "      <th>City</th>\n",
       "      <th>Cloudiness</th>\n",
       "      <th>Country</th>\n",
       "      <th>Date</th>\n",
       "      <th>Humidity</th>\n",
       "      <th>Lat</th>\n",
       "      <th>Lng</th>\n",
       "      <th>Max Temp</th>\n",
       "      <th>Wind Speed</th>\n",
       "    </tr>\n",
       "  </thead>\n",
       "  <tbody>\n",
       "    <tr>\n",
       "      <th>0</th>\n",
       "      <td>Nanortalik</td>\n",
       "      <td>88</td>\n",
       "      <td>GL</td>\n",
       "      <td>1553476127</td>\n",
       "      <td>94</td>\n",
       "      <td>60.14</td>\n",
       "      <td>-45.24</td>\n",
       "      <td>31.26</td>\n",
       "      <td>39.73</td>\n",
       "    </tr>\n",
       "    <tr>\n",
       "      <th>1</th>\n",
       "      <td>Padang</td>\n",
       "      <td>20</td>\n",
       "      <td>ID</td>\n",
       "      <td>1553472000</td>\n",
       "      <td>88</td>\n",
       "      <td>-0.92</td>\n",
       "      <td>100.36</td>\n",
       "      <td>77.00</td>\n",
       "      <td>1.12</td>\n",
       "    </tr>\n",
       "    <tr>\n",
       "      <th>2</th>\n",
       "      <td>Tessalit</td>\n",
       "      <td>88</td>\n",
       "      <td>ML</td>\n",
       "      <td>1553476130</td>\n",
       "      <td>20</td>\n",
       "      <td>20.20</td>\n",
       "      <td>1.01</td>\n",
       "      <td>72.30</td>\n",
       "      <td>4.61</td>\n",
       "    </tr>\n",
       "    <tr>\n",
       "      <th>3</th>\n",
       "      <td>Kununurra</td>\n",
       "      <td>0</td>\n",
       "      <td>AU</td>\n",
       "      <td>1553473800</td>\n",
       "      <td>52</td>\n",
       "      <td>-15.77</td>\n",
       "      <td>128.74</td>\n",
       "      <td>91.40</td>\n",
       "      <td>10.29</td>\n",
       "    </tr>\n",
       "    <tr>\n",
       "      <th>4</th>\n",
       "      <td>Tiksi</td>\n",
       "      <td>44</td>\n",
       "      <td>RU</td>\n",
       "      <td>1553476119</td>\n",
       "      <td>61</td>\n",
       "      <td>71.64</td>\n",
       "      <td>128.87</td>\n",
       "      <td>-7.72</td>\n",
       "      <td>3.94</td>\n",
       "    </tr>\n",
       "  </tbody>\n",
       "</table>\n",
       "</div>"
      ],
      "text/plain": [
       "         City  Cloudiness Country        Date  Humidity    Lat     Lng  \\\n",
       "0  Nanortalik          88      GL  1553476127        94  60.14  -45.24   \n",
       "1      Padang          20      ID  1553472000        88  -0.92  100.36   \n",
       "2    Tessalit          88      ML  1553476130        20  20.20    1.01   \n",
       "3   Kununurra           0      AU  1553473800        52 -15.77  128.74   \n",
       "4       Tiksi          44      RU  1553476119        61  71.64  128.87   \n",
       "\n",
       "   Max Temp  Wind Speed  \n",
       "0     31.26       39.73  \n",
       "1     77.00        1.12  \n",
       "2     72.30        4.61  \n",
       "3     91.40       10.29  \n",
       "4     -7.72        3.94  "
      ]
     },
     "execution_count": 6,
     "metadata": {},
     "output_type": "execute_result"
    }
   ],
   "source": [
    "# Display data frame head \n",
    "weather_data.head()\n"
   ]
  },
  {
   "cell_type": "markdown",
   "metadata": {},
   "source": [
    "### Plotting the Data\n",
    "* Use proper labeling of the plots using plot titles (including date of analysis) and axes labels.\n",
    "* Save the plotted figures as .pngs."
   ]
  },
  {
   "cell_type": "markdown",
   "metadata": {},
   "source": [
    "#### Latitude vs. Temperature Plot"
   ]
  },
  {
   "cell_type": "code",
   "execution_count": null,
   "metadata": {},
   "outputs": [],
   "source": [
    "# Build a scatter plot for each data type\n",
    "plt.scatter(weather_data[\"Lat\"], weather_data[\"Max Temp\"], marker=\"o\", s=10)\n",
    "\n",
    "# Incorporate the other graph properties\n",
    "plt.title(\"City Latitude vs. Max Temperature\")\n",
    "plt.ylabel(\"Max. Temperature (F)\")\n",
    "plt.xlabel(\"Latitude\")\n",
    "plt.grid(True)\n",
    "\n",
    "# Save the figure\n",
    "plt.savefig(\"output_data/Max_Temp_vs_Latitude.png\")\n",
    "\n",
    "# Show plot\n",
    "plt.show()\n",
    "png\n",
    "\n",
    "\n"
   ]
  },
  {
   "cell_type": "markdown",
   "metadata": {},
   "source": [
    "#### Latitude vs. Humidity Plot"
   ]
  },
  {
   "cell_type": "code",
   "execution_count": null,
   "metadata": {},
   "outputs": [],
   "source": [
    "plt.scatter(weather_data[\"Lat\"], weather_data[\"Humidity\"], marker=\"o\", s=10)\n",
    "\n",
    "# Incorporate the other graph properties\n",
    "plt.title(\"City Latitude vs. Humidity\")\n",
    "plt.ylabel(\"Humidity (%)\")\n",
    "plt.xlabel(\"Latitude\")\n",
    "plt.grid(True)\n",
    "\n",
    "# Save the figure\n",
    "plt.savefig(\"output_data/Humidity_vs_Latitude.png\")"
   ]
  },
  {
   "cell_type": "markdown",
   "metadata": {},
   "source": [
    "#### Latitude vs. Cloudiness Plot"
   ]
  },
  {
   "cell_type": "code",
   "execution_count": null,
   "metadata": {},
   "outputs": [],
   "source": [
    "plt.scatter(weather_data[\"Lat\"], weather_data[\"Cloudiness\"], marker=\"o\", s=10)\n",
    "\n",
    "# Incorporate the other graph properties\n",
    "plt.title(\"City Latitude vs. Cloudiness\")\n",
    "plt.ylabel(\"Cloudiness (%)\")\n",
    "plt.xlabel(\"Latitude\")\n",
    "plt.grid(True)\n",
    "\n",
    "\n",
    "# Save the figure\n",
    "plt.savefig(\"output_data/Cloudiness_vs_Latitude.png\")"
   ]
  },
  {
   "cell_type": "markdown",
   "metadata": {},
   "source": [
    "#### Latitude vs. Wind Speed Plot"
   ]
  },
  {
   "cell_type": "code",
   "execution_count": null,
   "metadata": {},
   "outputs": [],
   "source": [
    "plt.scatter(weather_data[\"Lat\"], weather_data[\"Wind Speed\"], marker=\"o\", s=10)\n",
    "\n",
    "# Incorporate the other graph properties\n",
    "plt.title(\"City Latitude vs. Wind Speed\")\n",
    "plt.ylabel(\"Wind Speed (%)\")\n",
    "plt.xlabel(\"Latitude\")\n",
    "plt.grid(True)\n",
    "\n",
    "\n",
    "# Save the figure\n",
    "plt.savefig(\"output_data/Wind Speed_vs_Latitude.png\")"
   ]
  },
  {
   "cell_type": "code",
   "execution_count": null,
   "metadata": {},
   "outputs": [],
   "source": []
  },
  {
   "cell_type": "code",
   "execution_count": null,
   "metadata": {},
   "outputs": [],
   "source": []
  },
  {
   "cell_type": "code",
   "execution_count": null,
   "metadata": {},
   "outputs": [],
   "source": []
  },
  {
   "cell_type": "code",
   "execution_count": null,
   "metadata": {},
   "outputs": [],
   "source": []
  }
 ],
 "metadata": {
  "anaconda-cloud": {},
  "kernel_info": {
   "name": "python3"
  },
  "kernelspec": {
   "display_name": "Python 3",
   "language": "python",
   "name": "python3"
  },
  "language_info": {
   "codemirror_mode": {
    "name": "ipython",
    "version": 3
   },
   "file_extension": ".py",
   "mimetype": "text/x-python",
   "name": "python",
   "nbconvert_exporter": "python",
   "pygments_lexer": "ipython3",
   "version": "3.6.7"
  },
  "nteract": {
   "version": "0.12.3"
  }
 },
 "nbformat": 4,
 "nbformat_minor": 2
}
